{
  "nbformat": 4,
  "nbformat_minor": 0,
  "metadata": {
    "colab": {
      "name": "Assignment1.ipynb",
      "provenance": []
    },
    "kernelspec": {
      "name": "python3",
      "display_name": "Python 3"
    }
  },
  "cells": [
    {
      "cell_type": "markdown",
      "metadata": {
        "id": "OUII7h3DS0zj"
      },
      "source": [
        "QUESTION1:\n",
        "ANSWER:B.RAINBOW"
      ]
    },
    {
      "cell_type": "code",
      "metadata": {
        "id": "0wQMdT9eStlA",
        "outputId": "81225351-5417-4a71-d4ca-e636888aba81",
        "colab": {
          "base_uri": "https://localhost:8080/"
        }
      },
      "source": [
        "#QUESTION2:\n",
        "\n",
        "print(\"LETS UPGRADE\")\n"
      ],
      "execution_count": 1,
      "outputs": [
        {
          "output_type": "stream",
          "text": [
            "LETS UPGRADE\n"
          ],
          "name": "stdout"
        }
      ]
    },
    {
      "cell_type": "code",
      "metadata": {
        "id": "Shwy0cdeTkv4",
        "outputId": "4b75b894-4899-425c-af35-5243c28bf8bb",
        "colab": {
          "base_uri": "https://localhost:8080/"
        }
      },
      "source": [
        "#QUESTION3:\n",
        "\n",
        "cp=int(input())\n",
        "sp=int(input())\n",
        "\n",
        "if sp>cp:\n",
        "  print(\"Profit\")\n",
        "elif cp>sp:\n",
        "  print(\"Loss\") \n",
        "  \n",
        "else:\n",
        "  print(\"Neither\")"
      ],
      "execution_count": 13,
      "outputs": [
        {
          "output_type": "stream",
          "text": [
            "19\n",
            "95\n",
            "Profit\n"
          ],
          "name": "stdout"
        }
      ]
    },
    {
      "cell_type": "code",
      "metadata": {
        "id": "zjE_VJ3MV10K",
        "outputId": "96d3446e-9c0a-4f4f-cd0f-d9f642537b5a",
        "colab": {
          "base_uri": "https://localhost:8080/"
        }
      },
      "source": [
        "#Question4:\n",
        "amt=int(input())\n",
        "print(amt*80)"
      ],
      "execution_count": 21,
      "outputs": [
        {
          "output_type": "stream",
          "text": [
            "18\n",
            "1440\n"
          ],
          "name": "stdout"
        }
      ]
    }
  ]
}