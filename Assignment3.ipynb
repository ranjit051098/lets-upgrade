{
  "nbformat": 4,
  "nbformat_minor": 0,
  "metadata": {
    "colab": {
      "name": "Assignment3.ipynb",
      "provenance": [],
      "authorship_tag": "ABX9TyNskFsWRydFpy7VbVPsolSD",
      "include_colab_link": true
    },
    "kernelspec": {
      "name": "python3",
      "display_name": "Python 3"
    }
  },
  "cells": [
    {
      "cell_type": "markdown",
      "metadata": {
        "id": "view-in-github",
        "colab_type": "text"
      },
      "source": [
        "<a href=\"https://colab.research.google.com/github/ranjit051098/lets-upgrade/blob/main/Assignment3.ipynb\" target=\"_parent\"><img src=\"https://colab.research.google.com/assets/colab-badge.svg\" alt=\"Open In Colab\"/></a>"
      ]
    },
    {
      "cell_type": "code",
      "metadata": {
        "id": "YnpQ_OupvbQ1",
        "outputId": "40db6ecb-a17f-49db-bb6c-bf221422873a",
        "colab": {
          "base_uri": "https://localhost:8080/"
        }
      },
      "source": [
        "#Question1\n",
        "import numpy as np\n",
        "arr=np.arange(2,50,3)\n",
        "arr"
      ],
      "execution_count": 1,
      "outputs": [
        {
          "output_type": "execute_result",
          "data": {
            "text/plain": [
              "array([ 2,  5,  8, 11, 14, 17, 20, 23, 26, 29, 32, 35, 38, 41, 44, 47])"
            ]
          },
          "metadata": {
            "tags": []
          },
          "execution_count": 1
        }
      ]
    },
    {
      "cell_type": "code",
      "metadata": {
        "id": "1GSSk5GJwGGu",
        "outputId": "5cac05ce-0ffb-4a7c-a704-ae463c4fe31f",
        "colab": {
          "base_uri": "https://localhost:8080/"
        }
      },
      "source": [
        "#question2\n",
        "l1=[]\n",
        "l2=[]\n",
        "for i in range(0,5):\n",
        "  n=int(input())\n",
        "  l1.append(n)\n",
        "for i in range(0,5):\n",
        "  m=int(input())\n",
        "  l2.append(m)  \n",
        "print(l1)\n",
        "print(l2)\n",
        "\n",
        "arr1=np.asarray(l1)\n",
        "arr2=np.asarray(l2)\n",
        "arr3=np.concatenate((arr1,arr2))\n",
        "print(arr3)\n",
        "\n",
        "print(np.sort(arr3))"
      ],
      "execution_count": 12,
      "outputs": [
        {
          "output_type": "stream",
          "text": [
            "12\n",
            "10\n",
            "20\n",
            "58\n",
            "98\n",
            "65\n",
            "32\n",
            "87\n",
            "41\n",
            "16\n",
            "[12, 10, 20, 58, 98]\n",
            "[65, 32, 87, 41, 16]\n",
            "[12 10 20 58 98 65 32 87 41 16]\n",
            "[10 12 16 20 32 41 58 65 87 98]\n"
          ],
          "name": "stdout"
        }
      ]
    },
    {
      "cell_type": "code",
      "metadata": {
        "id": "xhbR2yul22fc",
        "outputId": "d292f435-cae3-4f76-e456-8c4fb00684d1",
        "colab": {
          "base_uri": "https://localhost:8080/"
        }
      },
      "source": [
        "#Question3\n",
        "arr=np.array([[1,2,3],[5,8,9]])\n",
        "print(arr.ndim)\n",
        "arr.size"
      ],
      "execution_count": 15,
      "outputs": [
        {
          "output_type": "stream",
          "text": [
            "2\n"
          ],
          "name": "stdout"
        },
        {
          "output_type": "execute_result",
          "data": {
            "text/plain": [
              "6"
            ]
          },
          "metadata": {
            "tags": []
          },
          "execution_count": 15
        }
      ]
    },
    {
      "cell_type": "code",
      "metadata": {
        "id": "TJfN5Wcd6pVY",
        "outputId": "7161b8b5-f157-47b2-824d-b88c81f8c3c2",
        "colab": {
          "base_uri": "https://localhost:8080/"
        }
      },
      "source": [
        "#Question4\n",
        "arr=np.array([1,2,3,4])\n",
        "print(np.reshape(arr,(-1,2)))"
      ],
      "execution_count": 16,
      "outputs": [
        {
          "output_type": "stream",
          "text": [
            "[[1 2]\n",
            " [3 4]]\n"
          ],
          "name": "stdout"
        }
      ]
    },
    {
      "cell_type": "code",
      "metadata": {
        "id": "8-HS3-Hf7Q4n",
        "outputId": "5da76d05-8aa3-4401-f36a-8795f3971a1b",
        "colab": {
          "base_uri": "https://localhost:8080/"
        }
      },
      "source": [
        "#Question5\n",
        "arr1=np.array([[1,2,3],[8,9,71]])\n",
        "arr2=np.array([[4,5,6],[5,4,3]])\n",
        "arr3=np.hstack((arr1,arr2))\n",
        "print(arr3)\n",
        "arr4=np.vstack((arr1,arr2))\n",
        "print(arr4)"
      ],
      "execution_count": 20,
      "outputs": [
        {
          "output_type": "stream",
          "text": [
            "[[ 1  2  3  4  5  6]\n",
            " [ 8  9 71  5  4  3]]\n",
            "[[ 1  2  3]\n",
            " [ 8  9 71]\n",
            " [ 4  5  6]\n",
            " [ 5  4  3]]\n"
          ],
          "name": "stdout"
        }
      ]
    },
    {
      "cell_type": "code",
      "metadata": {
        "id": "Mt3E58QS9lON"
      },
      "source": [
        "#Question6\n",
        "using unique() function we can get unique items and count of unique items"
      ],
      "execution_count": null,
      "outputs": []
    }
  ]
}