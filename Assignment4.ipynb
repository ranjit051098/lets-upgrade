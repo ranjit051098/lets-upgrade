{
  "nbformat": 4,
  "nbformat_minor": 0,
  "metadata": {
    "colab": {
      "name": "Assignment4.ipynb",
      "provenance": [],
      "authorship_tag": "ABX9TyP3MJa9CYGOw4FLDsbjyUJ+",
      "include_colab_link": true
    },
    "kernelspec": {
      "name": "python3",
      "display_name": "Python 3"
    }
  },
  "cells": [
    {
      "cell_type": "markdown",
      "metadata": {
        "id": "view-in-github",
        "colab_type": "text"
      },
      "source": [
        "<a href=\"https://colab.research.google.com/github/ranjit051098/lets-upgrade/blob/main/Assignment4.ipynb\" target=\"_parent\"><img src=\"https://colab.research.google.com/assets/colab-badge.svg\" alt=\"Open In Colab\"/></a>"
      ]
    },
    {
      "cell_type": "code",
      "metadata": {
        "id": "oQkS_q2G6qcY",
        "outputId": "e99fc2c3-0393-4d92-fa5c-6afd68f16f5e",
        "colab": {
          "base_uri": "https://localhost:8080/"
        }
      },
      "source": [
        "#Question1\n",
        "import pandas as pd\n",
        "\n",
        "print(pd.__version__)"
      ],
      "execution_count": 5,
      "outputs": [
        {
          "output_type": "stream",
          "text": [
            "1.1.4\n"
          ],
          "name": "stdout"
        }
      ]
    },
    {
      "cell_type": "code",
      "metadata": {
        "id": "gfVG3VF-7Vqm",
        "outputId": "6c2b1a6b-e3cc-43e5-eb3d-9f1a1640cac6",
        "colab": {
          "base_uri": "https://localhost:8080/"
        }
      },
      "source": [
        "#Question2\n",
        "\n",
        "import numpy as np\n",
        "\n",
        "\n",
        "data=np.array([1,2,3,4,5,6])\n",
        "\n",
        "s=pd.Series(data)\n",
        "print(s)"
      ],
      "execution_count": 8,
      "outputs": [
        {
          "output_type": "stream",
          "text": [
            "0    1\n",
            "1    2\n",
            "2    3\n",
            "3    4\n",
            "4    5\n",
            "5    6\n",
            "dtype: int64\n"
          ],
          "name": "stdout"
        }
      ]
    },
    {
      "cell_type": "code",
      "metadata": {
        "id": "KOg0vfIS8VfE",
        "outputId": "3958c3a9-948d-40f3-b6fc-45ffd582b2c6",
        "colab": {
          "base_uri": "https://localhost:8080/"
        }
      },
      "source": [
        "#Question3\n",
        "data = {'Product': ['Computer','Printer','Monitor','Desk','Phone'],\n",
        "          'Price': [1200,250,400,700,350]\n",
        "        }\n",
        "\n",
        "df = pd.DataFrame(data, columns = ['Product','Price'], index = ['Item_1','Item_2','Item_3','Item_4','Item_5'])\n",
        "\n",
        "df.reset_index(inplace=True)\n",
        "\n",
        "print(df)"
      ],
      "execution_count": 9,
      "outputs": [
        {
          "output_type": "stream",
          "text": [
            "    index   Product  Price\n",
            "0  Item_1  Computer   1200\n",
            "1  Item_2   Printer    250\n",
            "2  Item_3   Monitor    400\n",
            "3  Item_4      Desk    700\n",
            "4  Item_5     Phone    350\n"
          ],
          "name": "stdout"
        }
      ]
    },
    {
      "cell_type": "code",
      "metadata": {
        "id": "y1HmmOpk-7RC"
      },
      "source": [
        "#Question4\n",
        "import seaborn as sb\n",
        "\n",
        "\n",
        "df=sb.load_dataset()"
      ],
      "execution_count": null,
      "outputs": []
    }
  ]
}